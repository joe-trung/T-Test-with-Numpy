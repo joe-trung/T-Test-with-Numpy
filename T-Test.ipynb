{
 "cells": [
  {
   "cell_type": "code",
   "execution_count": 3,
   "id": "0c33ae5a",
   "metadata": {},
   "outputs": [],
   "source": [
    "import pandas as pd\n",
    "import numpy as np\n",
    "from scipy import stats\n",
    "import os"
   ]
  },
  {
   "cell_type": "code",
   "execution_count": 2,
   "id": "caa42993",
   "metadata": {},
   "outputs": [
    {
     "name": "stdout",
     "output_type": "stream",
     "text": [
      "(1000, 8)\n",
      "     gender race/ethnicity parental level of education         lunch  \\\n",
      "0    female        group B           bachelor's degree      standard   \n",
      "1    female        group C                some college      standard   \n",
      "2    female        group B             master's degree      standard   \n",
      "3      male        group A          associate's degree  free/reduced   \n",
      "4      male        group C                some college      standard   \n",
      "..      ...            ...                         ...           ...   \n",
      "995  female        group E             master's degree      standard   \n",
      "996    male        group C                 high school  free/reduced   \n",
      "997  female        group C                 high school  free/reduced   \n",
      "998  female        group D                some college      standard   \n",
      "999  female        group D                some college  free/reduced   \n",
      "\n",
      "    test preparation course  math score  reading score  writing score  \n",
      "0                      none          72             72             74  \n",
      "1                 completed          69             90             88  \n",
      "2                      none          90             95             93  \n",
      "3                      none          47             57             44  \n",
      "4                      none          76             78             75  \n",
      "..                      ...         ...            ...            ...  \n",
      "995               completed          88             99             95  \n",
      "996                    none          62             55             55  \n",
      "997               completed          59             71             65  \n",
      "998               completed          68             78             77  \n",
      "999                    none          77             86             86  \n",
      "\n",
      "[1000 rows x 8 columns]\n"
     ]
    }
   ],
   "source": [
    "df = pd.read_csv('scores.csv')\n",
    "print(df.shape)\n",
    "print(df)"
   ]
  },
  {
   "cell_type": "code",
   "execution_count": 4,
   "id": "7eda747e",
   "metadata": {},
   "outputs": [
    {
     "name": "stdout",
     "output_type": "stream",
     "text": [
      "<class 'numpy.ndarray'>\n",
      "[ 72  69  90  71  88  38  65  50  69  18  54  65  69  67  62  69  63  56\n",
      "  74  50  75  58  53  50  55  66  57  71  33  82   0  69  59  60  39  58\n",
      "  41  61  62  47  73  76  71  58  73  65  79  63  58  65  85  58  87  52\n",
      "  70  77  51  99  75  78  51  55  79  88  87  51  75  59  76  59  42  22\n",
      "  68  59  70  66  61  75  81  96  58  68  67  79  63  43  81  46  71  52\n",
      "  97  46  50  65  77  66  62  69  45  78  67  65  57  74  58  42  83  34\n",
      "  56  55  52  45  72  88  67  64  80  56  58  65  71  60  62  64  70  65\n",
      "  64  44  99  63  69  88  71  47  65  85  59  65  73  70  37  67  65  67\n",
      "  74  53  49  73  68  59  77  56  67  75  71  43  41  82  41  83  61  24\n",
      "  35  61  69  72  77  52  63  46  59  61  42  80  58  52  27  44  73  45\n",
      "  82  59  80  85  71  80  38  38  67  64  57  62  77  65  50  85  59  49\n",
      "  88  54  63  82  52  70  51  82  57  47  59  62  61  47  67  78  59  73\n",
      "  67  64 100  65  53  79 100  71  77  84  26  77  83  63  68  59  90  71\n",
      "  55  52  49  60  65  64  83  81  54  54  59  66  74  94  95  40  82  86\n",
      "  54  77  76  74  66  66  67  91  36  29  62  68  47  79  66  51  81  82\n",
      "  64  92  62  40  32  55  53  74  63  63  92  61  53  50  74  81  48  53\n",
      "  81  77  63  73  69  65  55  44  54  48  74  92  56  69  65  54  29  76\n",
      "  85  40  61  58  58  65  82  60  37  35  61  44  66  75  67  80  76  74\n",
      "  72  74  65  59  64  50  69  68  85  65  73  62  43  55  65  50  63  77\n",
      "  66  69  65  69  50  73  70  67  29  94  49  73  66  77  49  79  75  59\n",
      "  57  79  57  63  59  42  80  98  60  76  96  76  62  74  65  73  68  87\n",
      "  53  53  37  81  59  50  77  84  52  53  48  62  74  58  68  52  62  49\n",
      "  66  35  72  46  77  76  52  32  72  19  52  48  60  42  57  70  52  87\n",
      "  82  73  64  41  54  72  45  60  77  85  78  71  48  56  65  69  61  74\n",
      "  77  60  75  66  39  23  40  59  61  87  97  65  53  81  71  70  43  59\n",
      "  64  71  64  51  62  93  69  86  85  50  59  32  63  65  73  34  93  67\n",
      "  79  67  69  52  47  46  68  44  57  35  54  65  48  57  78  58  54  49\n",
      "  57  75  74  62  92  45  56  48 100  65  62  68  75  89  53  49  54  64\n",
      "  91   8  78  74  40  44  67  65  55  62  88  59  68  77]\n"
     ]
    }
   ],
   "source": [
    "fm = df.loc[df['gender'] == 'female', 'math score'].values\n",
    "print(type(fm))\n",
    "print(fm)"
   ]
  },
  {
   "cell_type": "code",
   "execution_count": 5,
   "id": "d94adc9a",
   "metadata": {},
   "outputs": [
    {
     "name": "stdout",
     "output_type": "stream",
     "text": [
      "<class 'numpy.ndarray'>\n",
      "[ 47  76  40  64  58  40  78  88  46  66  44  74  73  69  70  40  97  81\n",
      "  57  55  59  65  82  53  77  53  88  52  58  79  39  62  67  45  61  63\n",
      "  61  49  44  30  80  49  50  72  42  27  71  43  78  65  79  68  60  98\n",
      "  66  62  54  84  91  63  83  72  65  82  89  53  87  74  58  51  70  71\n",
      "  57  88  88  73 100  62  77  54  62  60  66  82  49  52  53  72  94  62\n",
      "  45  65  80  62  48  76  77  61  59  55  69  59  74  82  81  80  35  60\n",
      "  87  84  66  61  87  86  57  68  76  46  92  83  80  63  54  84  73  59\n",
      "  75  85  89  68  47  80  54  78  79  76  59  69  58  88  83  73  53  45\n",
      "  81  97  88  77  76  86  63  78  67  46  71  40  90  81  56  80  69  99\n",
      "  51  66  67  71  83  63  61  28  82  71  47  62  90  76  49  58  67  79\n",
      "  62  75  87  66  63  59  85  59  49  69  61  84  74  46  66  87  79  73\n",
      "  73  76  57  48  74  60  53  65  87  84  71  63  84  71  74  68  57  41\n",
      "  86  69  65  68  64  61  73  50  75  75  70  89  79  69  86  47  81  65\n",
      "  37  53  72  53  54  75  72  91  76  80  76  73  68  59  70  61  64  79\n",
      "  68  76  63  68  55  79  76  64  62  71  69  54  53  68  56  62  73  51\n",
      "  85  97  75  79  78  72  79  79  87  77  53  61  73  96  48  48  63  68\n",
      "  71  91  40  61  58  71  68  30  53  60  84  75  69  94  88  95  65  62\n",
      "  58 100 100  69  61  49  67  79  84  71  86  41  70  51  77  69  90  74\n",
      "  73  80  73  81  52  81  63  60  62  62  85  77  53  93  66  87  62  46\n",
      "  66  89  93  81  73  91  55  50  47  81  68  53  55  55  67  92  81  61\n",
      "  80  55  72  69  69  87  71  68  79  58  55  70  69  78  60  76  58  52\n",
      "  75  66  94  91  68  66  89  70  69  67  76  75  90  59  51  45  87  94\n",
      "  61  49  62  68  64  58  73  58  64  74  90  91  64  80  71  82  62  75\n",
      "  52  87  39  97  82  59  61  78  49  59  82  90  80  81  57  63  55  54\n",
      "  44  88  36  67  85  88  57  70  50 100  91  69  72  74  74  64  46  67\n",
      "  62  61  70  98  70  67  85  77  72  81  61  82  49  94  58  72  84  75\n",
      "  72  66  63  78  60  62  55  81  79  57  81  86  63  62]\n"
     ]
    }
   ],
   "source": [
    "mm = df.loc[df['gender'] == 'male', 'math score'].values\n",
    "print(type(mm))\n",
    "print(mm)"
   ]
  },
  {
   "cell_type": "code",
   "execution_count": 6,
   "id": "d44794d7",
   "metadata": {},
   "outputs": [
    {
     "name": "stdout",
     "output_type": "stream",
     "text": [
      "482  ,  518\n"
     ]
    }
   ],
   "source": [
    "print(mm.size,' , ', fm.size)"
   ]
  },
  {
   "cell_type": "code",
   "execution_count": 12,
   "id": "6bbb02c4",
   "metadata": {},
   "outputs": [],
   "source": [
    "def computeTandP(arr1, arr2):\n",
    "    t_value,p_value = 0, 0\n",
    "    mean_1, mean_2 = np.mean(arr1), np.mean(arr2)\n",
    "    \n",
    "    std_1, std_2 = np.std(arr1), np.std(arr2)\n",
    "    \n",
    "    variance = (((arr1.size-1)*(std_1**2))+((arr2.size-1)*(std_2**2)))/(arr1.size+arr2.size-2)\n",
    "    \n",
    "    standard_deviation = np.sqrt(variance)\n",
    "    \n",
    "    standard_error = standard_deviation*np.sqrt(1/arr1.size+1/arr2.size)\n",
    "    \n",
    "    t_value =(mean_1-mean_2)/standard_error\n",
    "    d_freedom = arr1.size +arr2.size -2\n",
    "    \n",
    "    p_value = 2*(1-stats.t.cdf(t_value,d_freedom))\n",
    "    \n",
    "    return t_value,p_value"
   ]
  },
  {
   "cell_type": "code",
   "execution_count": 13,
   "id": "752612e1",
   "metadata": {},
   "outputs": [
    {
     "name": "stdout",
     "output_type": "stream",
     "text": [
      "T value: 5.388622466450282\n",
      "P value: 8.859047007092613e-08\n"
     ]
    }
   ],
   "source": [
    "t,p = computeTandP(mm,fm)\n",
    "print('T value:',t)\n",
    "print('P value:',p)"
   ]
  },
  {
   "cell_type": "code",
   "execution_count": 14,
   "id": "f7511f8a",
   "metadata": {},
   "outputs": [],
   "source": [
    "# NOT MUCH DIFFERENT BETWEEN MALE AND FEMALE MATH TEST SCORE"
   ]
  },
  {
   "cell_type": "code",
   "execution_count": 21,
   "id": "b1226692",
   "metadata": {},
   "outputs": [],
   "source": [
    "# NOW REMOVE OUTLIER\n",
    "def remove_outlier(arr):\n",
    "    q3,q1 = np.percentile(arr,[75,25])\n",
    "    iqr = q3 - q1\n",
    "    lower = q1 -1.5*iqr\n",
    "    upper = q3 +1.5*iqr\n",
    "    \n",
    "    arr = arr[(arr>=lower) & (arr<=upper)]\n",
    "    \n",
    "    return arr"
   ]
  },
  {
   "cell_type": "code",
   "execution_count": 22,
   "id": "d0033f58",
   "metadata": {},
   "outputs": [],
   "source": [
    "fm = remove_outlier(fm)\n",
    "mm = remove_outlier(mm)"
   ]
  },
  {
   "cell_type": "code",
   "execution_count": 23,
   "id": "bf01678a",
   "metadata": {},
   "outputs": [
    {
     "name": "stdout",
     "output_type": "stream",
     "text": [
      "T value: 5.142350675301441\n",
      "P value: 3.269459232235761e-07\n"
     ]
    }
   ],
   "source": [
    "t,p = computeTandP(mm,fm)\n",
    "print('T value:',t)\n",
    "print('P value:',p)"
   ]
  },
  {
   "cell_type": "code",
   "execution_count": null,
   "id": "4a40b436",
   "metadata": {},
   "outputs": [],
   "source": [
    "# STILL NOT ABLE TO APPLY HYPOTHESIS"
   ]
  }
 ],
 "metadata": {
  "kernelspec": {
   "display_name": "Python 3 (ipykernel)",
   "language": "python",
   "name": "python3"
  },
  "language_info": {
   "codemirror_mode": {
    "name": "ipython",
    "version": 3
   },
   "file_extension": ".py",
   "mimetype": "text/x-python",
   "name": "python",
   "nbconvert_exporter": "python",
   "pygments_lexer": "ipython3",
   "version": "3.10.11"
  }
 },
 "nbformat": 4,
 "nbformat_minor": 5
}
